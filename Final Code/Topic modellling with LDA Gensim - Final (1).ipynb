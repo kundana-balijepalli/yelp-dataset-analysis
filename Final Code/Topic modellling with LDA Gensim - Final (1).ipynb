{
 "cells": [
  {
   "cell_type": "code",
   "execution_count": 2,
   "metadata": {},
   "outputs": [
    {
     "name": "stdout",
     "output_type": "stream",
     "text": [
      "Requirement already up-to-date: gensim in /opt/conda/lib/python3.7/site-packages (4.1.2)\n",
      "Requirement already satisfied, skipping upgrade: scipy>=0.18.1 in /opt/conda/lib/python3.7/site-packages (from gensim) (1.4.1)\n",
      "Requirement already satisfied, skipping upgrade: numpy>=1.17.0 in /opt/conda/lib/python3.7/site-packages (from gensim) (1.18.4)\n",
      "Requirement already satisfied, skipping upgrade: smart-open>=1.8.1 in /opt/conda/lib/python3.7/site-packages (from gensim) (5.2.1)\n",
      "Requirement already up-to-date: nltk in /opt/conda/lib/python3.7/site-packages (3.6.5)\n",
      "Requirement already satisfied, skipping upgrade: click in /opt/conda/lib/python3.7/site-packages (from nltk) (7.1.2)\n",
      "Requirement already satisfied, skipping upgrade: joblib in /opt/conda/lib/python3.7/site-packages (from nltk) (0.15.1)\n",
      "Requirement already satisfied, skipping upgrade: tqdm in /opt/conda/lib/python3.7/site-packages (from nltk) (4.45.0)\n",
      "Requirement already satisfied, skipping upgrade: regex>=2021.8.3 in /opt/conda/lib/python3.7/site-packages (from nltk) (2021.11.10)\n",
      "Requirement already satisfied: pyLDAvis==3.2.2 in /opt/conda/lib/python3.7/site-packages (3.2.2)\n",
      "Requirement already satisfied: wheel>=0.23.0 in /opt/conda/lib/python3.7/site-packages (from pyLDAvis==3.2.2) (0.34.2)\n",
      "Requirement already satisfied: pandas>=0.17.0; python_version > \"3.5\" in /opt/conda/lib/python3.7/site-packages (from pyLDAvis==3.2.2) (1.0.3)\n",
      "Requirement already satisfied: jinja2>=2.7.2 in /opt/conda/lib/python3.7/site-packages (from pyLDAvis==3.2.2) (2.11.2)\n",
      "Requirement already satisfied: funcy in /opt/conda/lib/python3.7/site-packages (from pyLDAvis==3.2.2) (1.16)\n",
      "Requirement already satisfied: scipy>=0.18.0 in /opt/conda/lib/python3.7/site-packages (from pyLDAvis==3.2.2) (1.4.1)\n",
      "Requirement already satisfied: future in /opt/conda/lib/python3.7/site-packages (from pyLDAvis==3.2.2) (0.18.2)\n",
      "Requirement already satisfied: numpy>=1.9.2 in /opt/conda/lib/python3.7/site-packages (from pyLDAvis==3.2.2) (1.18.4)\n",
      "Requirement already satisfied: numexpr in /opt/conda/lib/python3.7/site-packages (from pyLDAvis==3.2.2) (2.7.1)\n",
      "Requirement already satisfied: joblib>=0.8.4 in /opt/conda/lib/python3.7/site-packages (from pyLDAvis==3.2.2) (0.15.1)\n",
      "Requirement already satisfied: pytz>=2017.2 in /opt/conda/lib/python3.7/site-packages (from pandas>=0.17.0; python_version > \"3.5\"->pyLDAvis==3.2.2) (2020.1)\n",
      "Requirement already satisfied: python-dateutil>=2.6.1 in /opt/conda/lib/python3.7/site-packages (from pandas>=0.17.0; python_version > \"3.5\"->pyLDAvis==3.2.2) (2.8.1)\n",
      "Requirement already satisfied: MarkupSafe>=0.23 in /opt/conda/lib/python3.7/site-packages (from jinja2>=2.7.2->pyLDAvis==3.2.2) (1.1.1)\n",
      "Requirement already satisfied: six>=1.5 in /opt/conda/lib/python3.7/site-packages (from python-dateutil>=2.6.1->pandas>=0.17.0; python_version > \"3.5\"->pyLDAvis==3.2.2) (1.14.0)\n"
     ]
    },
    {
     "data": {
      "text/plain": [
       "Index(['Unnamed: 0', 'review_id', 'business_id', 'stars', 'text',\n",
       "       'clean_text'],\n",
       "      dtype='object')"
      ]
     },
     "execution_count": 2,
     "metadata": {},
     "output_type": "execute_result"
    }
   ],
   "source": [
    "!python -m pip install -U gensim\n",
    "!python -m pip install -U nltk\n",
    "!pip install pyLDAvis==3.2.2\n",
    "\n",
    "#nltk.download('punkt')\n",
    "\n",
    "import gensim\n",
    "import pandas as pd\n",
    "from nltk.tokenize import word_tokenize\n",
    "import nltk\n",
    "#from gensim import corpora, models\n",
    "import pyLDAvis.gensim\n",
    "import os\n",
    "\n",
    "df = pd.read_csv('cleaned_data.csv')\n",
    "df.columns"
   ]
  },
  {
   "cell_type": "code",
   "execution_count": 3,
   "metadata": {},
   "outputs": [
    {
     "name": "stdout",
     "output_type": "stream",
     "text": [
      "['great', 'food', 'recommend', 'grill', 'shrimp', 'app', 'white', 'bean', 'soup', 'brussel', 'sprout', 'risotto', 'lamb', 'great', 'wine', 'select', 'interest', 'cocktail', 'menu', 'good']\n"
     ]
    }
   ],
   "source": [
    "#clean_text is already tokensized text \n",
    "#docs=df['text'].apply(word_tokenize)\n",
    "\n",
    "docs = df['clean_text'].apply(word_tokenize)\n",
    "print(docs[0][0:20])"
   ]
  },
  {
   "cell_type": "code",
   "execution_count": 4,
   "metadata": {},
   "outputs": [
    {
     "name": "stdout",
     "output_type": "stream",
     "text": [
      "[(0, 1), (1, 1), (2, 1), (3, 1), (4, 1), (5, 1), (6, 1), (7, 1), (8, 1), (9, 1), (10, 1), (11, 1), (12, 2), (13, 2), (14, 1), (15, 1), (16, 1), (17, 1), (18, 1), (19, 1)]\n"
     ]
    }
   ],
   "source": [
    "# Unigrams\n",
    "\n",
    "uni_dict = gensim.corpora.Dictionary(docs)\n",
    "\n",
    "#convert docs to vec\n",
    "uni_corpus = [uni_dict.doc2bow(docs) for docs in docs]\n",
    "print(uni_corpus[0][0:20])"
   ]
  },
  {
   "cell_type": "code",
   "execution_count": 5,
   "metadata": {},
   "outputs": [
    {
     "name": "stdout",
     "output_type": "stream",
     "text": [
      "['came', 'visit', 'sat', 'bar', 'never', 'even', 'heard', 'place', 'came', 'friend', 'recommend', 'quit', 'treat', 'arriv', 'tyson', 'beckford', 'andi', 'buckley', 'offic', 'also', 'sit', 'bar', 'quit', 'star', 'stud', 'even', 'asid', 'bartend', 'joe', 'fantast', 'realli', 'know', 'make', 'good', 'drink', 'order', 'burger', 'also', 'realli', 'good', 'saw', 'small', 'patio', 'equip', 'fire_pit', 'seem', 'like', 'would', 'perfect', 'stop', 'romant', 'even']\n"
     ]
    }
   ],
   "source": [
    "# Creating Bigrams\n",
    "bigram_phrases = gensim.models.Phrases(docs, min_count=5, threshold=25)\n",
    "bigram = gensim.models.phrases.Phraser(bigram_phrases)\n",
    "\n",
    "def make_bigrams(texts):\n",
    "    return([bigram[doc] for doc in texts])\n",
    "\n",
    "bigrams_data = make_bigrams(docs)\n",
    "\n",
    "print(bigrams_data[35])"
   ]
  },
  {
   "cell_type": "code",
   "execution_count": 43,
   "metadata": {},
   "outputs": [
    {
     "name": "stdout",
     "output_type": "stream",
     "text": [
      "TfidfModel(num_docs=351, num_nnz=18992)\n"
     ]
    }
   ],
   "source": [
    "#TF-IDF REMOVAL\n",
    "from gensim.models import TfidfModel\n",
    "\n",
    "id2word = gensim.corpora.Dictionary(bigrams_data)\n",
    "\n",
    "texts = bigrams_data\n",
    "\n",
    "corpus = [id2word.doc2bow(text) for text in texts]\n",
    "# print (corpus[0][0:20])\n",
    "\n",
    "tfidf = TfidfModel(corpus, id2word=id2word)\n",
    "print(tfidf)\n",
    "\n",
    "\n",
    "low_value = 0.2\n",
    "words  = []\n",
    "words_missing_in_tfidf = []\n",
    "for i in range(0, len(corpus)):\n",
    "    bow = corpus[i]\n",
    "    low_value_words = [] #reinitialize to be safe. You can skip this.\n",
    "    tfidf_ids = [id for id, value in tfidf[bow]]\n",
    "    bow_ids = [id for id, value in bow]\n",
    "    low_value_words = [id for id, value in tfidf[bow] if value < low_value]\n",
    "    drops = low_value_words+words_missing_in_tfidf\n",
    "    for item in drops:\n",
    "        words.append(id2word[item])\n",
    "    words_missing_in_tfidf = [id for id in bow_ids if id not in tfidf_ids] # The words with tf-idf socre 0 will be missing\n",
    "\n",
    "    new_bow = [b for b in bow if b[0] not in low_value_words and b[0] not in words_missing_in_tfidf]\n",
    "    corpus[i] = new_bow"
   ]
  },
  {
   "cell_type": "code",
   "execution_count": 41,
   "metadata": {},
   "outputs": [
    {
     "data": {
      "text/plain": [
       "[(0,\n",
       "  '0.020*\"lobster\" + 0.013*\"smore\" + 0.012*\"fri\" + 0.010*\"aragosta\" + 0.010*\"event\" + 0.009*\"got\" + 0.008*\"fire\" + 0.008*\"clambak\" + 0.008*\"calamari\" + 0.007*\"voucher\"'),\n",
       " (1,\n",
       "  '0.034*\"ravioli\" + 0.024*\"goat\" + 0.022*\"appl\" + 0.016*\"martini\" + 0.013*\"lobster\" + 0.009*\"occas\" + 0.009*\"minestron\" + 0.008*\"picki\" + 0.007*\"patrick\" + 0.007*\"limit\"'),\n",
       " (2,\n",
       "  '0.011*\"de\" + 0.009*\"sidewalk\" + 0.008*\"crave\" + 0.008*\"touch\" + 0.007*\"harbor\" + 0.007*\"1800\" + 0.007*\"saffron\" + 0.007*\"utensil\" + 0.006*\"garden\" + 0.006*\"famili\"'),\n",
       " (3,\n",
       "  '0.012*\"gorgeou\" + 0.010*\"peachtre\" + 0.010*\"favorit\" + 0.010*\"battl\" + 0.009*\"within\" + 0.009*\"spot\" + 0.008*\"joint\" + 0.008*\"marinara\" + 0.008*\"tomato\" + 0.008*\"vino\"'),\n",
       " (4,\n",
       "  '0.018*\"food\" + 0.011*\"servic\" + 0.011*\"us\" + 0.011*\"good\" + 0.010*\"tabl\" + 0.010*\"restaur\" + 0.009*\"wait\" + 0.009*\"order\" + 0.008*\"would\" + 0.007*\"back\"'),\n",
       " (5,\n",
       "  '0.044*\"park\" + 0.035*\"al\" + 0.029*\"bacio\" + 0.023*\"ave\" + 0.019*\"italian\" + 0.017*\"coffe\" + 0.014*\"breakfast\" + 0.013*\"lunch\" + 0.012*\"friendli\" + 0.011*\"groupon\"'),\n",
       " (6,\n",
       "  '0.020*\"place\" + 0.014*\"great\" + 0.011*\"love\" + 0.011*\"food\" + 0.011*\"order\" + 0.011*\"delici\" + 0.010*\"one\" + 0.009*\"good\" + 0.008*\"restaur\" + 0.008*\"also\"'),\n",
       " (7,\n",
       "  '0.016*\"old\" + 0.012*\"head\" + 0.011*\"el\" + 0.009*\"worst\" + 0.008*\"la\" + 0.007*\"lo\" + 0.007*\"para\" + 0.007*\"una\" + 0.007*\"reheat\" + 0.007*\"spectacular\"')]"
      ]
     },
     "execution_count": 41,
     "metadata": {},
     "output_type": "execute_result"
    }
   ],
   "source": [
    "#LDA model\n",
    "\n",
    "#chunksize is the number of documents to be used in each training chunk.\\\n",
    "#update_every determines how often the model parameters should be updated\n",
    "#passes is the total number of training passes.\n",
    "\n",
    "ldagensim1 = gensim.models.ldamodel.LdaModel(corpus = uni_corpus, \n",
    "                                           num_topics = 8, \n",
    "                                           id2word = uni_dict, \n",
    "                                           random_state = 123, \n",
    "                                           update_every = 1, \n",
    "                                           chunksize = 100, \n",
    "                                           passes = 10, \n",
    "                                           alpha = 'auto')\n",
    "\n",
    "vecTop= ldagensim1.show_topics()\n",
    "vecTop\n",
    "# for i in range(0, 5):\n",
    "#     print(vecTop[i])"
   ]
  },
  {
   "cell_type": "code",
   "execution_count": 44,
   "metadata": {},
   "outputs": [
    {
     "data": {
      "text/plain": [
       "[(0,\n",
       "  '0.035*\"us\" + 0.022*\"plate\" + 0.014*\"smore\" + 0.013*\"martini\" + 0.013*\"lasagna\" + 0.012*\"favorit\" + 0.010*\"el\" + 0.010*\"despit\" + 0.010*\"cute\" + 0.009*\"simpl\"'),\n",
       " (1,\n",
       "  '0.018*\"gnocchi\" + 0.016*\"tea\" + 0.015*\"pastri\" + 0.012*\"point\" + 0.012*\"tuna\" + 0.010*\"minut\" + 0.009*\"total\" + 0.009*\"wait\" + 0.008*\"coupon\" + 0.008*\"smaller\"'),\n",
       " (2,\n",
       "  '0.019*\"clear\" + 0.013*\"pasta\" + 0.012*\"arugula\" + 0.010*\"pretti\" + 0.010*\"employe\" + 0.010*\"groupon\" + 0.009*\"wine\" + 0.009*\"meatbal\" + 0.008*\"must\" + 0.008*\"relax\"'),\n",
       " (3,\n",
       "  '0.014*\"chicken\" + 0.014*\"mom\" + 0.011*\"touch\" + 0.011*\"margherita\" + 0.010*\"lunch\" + 0.010*\"view\" + 0.010*\"al_bacio\" + 0.008*\"reserv\" + 0.008*\"owner\" + 0.008*\"strong\"'),\n",
       " (4,\n",
       "  '0.030*\"excel\" + 0.030*\"pizza\" + 0.016*\"final\" + 0.014*\"burger\" + 0.013*\"gf\" + 0.013*\"call\" + 0.012*\"coffe\" + 0.011*\"clambak\" + 0.011*\"occas\" + 0.011*\"bit\"'),\n",
       " (5,\n",
       "  '0.013*\"famili\" + 0.013*\"experi\" + 0.012*\"worst\" + 0.011*\"old\" + 0.011*\"amaz\" + 0.010*\"slice\" + 0.010*\"parm\" + 0.009*\"pepperoni\" + 0.009*\"stand\" + 0.008*\"dirti\"'),\n",
       " (6,\n",
       "  '0.021*\"portion\" + 0.017*\"sister\" + 0.016*\"chees\" + 0.015*\"alway\" + 0.013*\"egg_benedict\" + 0.011*\"bother\" + 0.009*\"know\" + 0.009*\"small\" + 0.008*\"bartend\" + 0.008*\"calamari\"'),\n",
       " (7,\n",
       "  '0.024*\"goat_chees\" + 0.016*\"lobster\" + 0.012*\"waitress\" + 0.011*\"minestron\" + 0.009*\"drinker\" + 0.009*\"dessert\" + 0.008*\"brunch\" + 0.008*\"chill\" + 0.008*\"check\" + 0.007*\"1599\"')]"
      ]
     },
     "execution_count": 44,
     "metadata": {},
     "output_type": "execute_result"
    }
   ],
   "source": [
    "#LDA model\n",
    "\n",
    "#chunksize is the number of documents to be used in each training chunk.\\\n",
    "#update_every determines how often the model parameters should be updated\n",
    "#passes is the total number of training passes.\n",
    "\n",
    "ldagensim = gensim.models.ldamodel.LdaModel(corpus = corpus, \n",
    "                                           num_topics = 8, \n",
    "                                           id2word = id2word, \n",
    "                                           random_state = 123, \n",
    "                                           update_every = 1, \n",
    "                                           chunksize = 100, \n",
    "                                           passes = 10, \n",
    "                                           alpha = 'auto')\n",
    "\n",
    "vecTop= ldagensim.show_topics()\n",
    "vecTop\n",
    "# for i in range(0, 5):\n",
    "#     print(vecTop[i])"
   ]
  },
  {
   "cell_type": "code",
   "execution_count": 45,
   "metadata": {},
   "outputs": [
    {
     "name": "stdout",
     "output_type": "stream",
     "text": [
      "\n",
      "Perplexity:  -8.061444935972455\n",
      "\n",
      "Coherence Score:  0.5446240230038483\n"
     ]
    }
   ],
   "source": [
    "from gensim.models.coherencemodel import CoherenceModel\n",
    "# cm = CoherenceModel(model=ldagensim, texts = docs, coherence='c_v')\n",
    "# coherence = cm.get_coherence() \n",
    "\n",
    "# Compute Perplexity\n",
    "print('\\nPerplexity: ', ldagensim.log_perplexity(corpus))  # a measure of how good the model is. lower the better.\n",
    "#print('\\nPerplexity: ', ldagensim1.log_perplexity(uni_corpus))  # a measure of how good the model is. lower the better.\n",
    "\n",
    "# Compute Coherence Score\n",
    "cm = CoherenceModel(model= ldagensim, texts= bigrams_data, dictionary=id2word, coherence='c_v')\n",
    "#unigram\n",
    "#cm = CoherenceModel(model= ldagensim1, texts= docs, dictionary=uni_dict, coherence='c_v')\n",
    "coherence = cm.get_coherence()\n",
    "print('\\nCoherence Score: ', coherence)"
   ]
  },
  {
   "cell_type": "code",
   "execution_count": 27,
   "metadata": {},
   "outputs": [],
   "source": [
    "def compute_coherence_values(dictionary, corpus, texts, limit, start=2, step=3):\n",
    "    \"\"\"\n",
    "    Compute c_v coherence for various number of topics\n",
    "\n",
    "    Parameters:\n",
    "    ----------\n",
    "    dictionary : Gensim dictionary\n",
    "    corpus : Gensim corpus\n",
    "    texts : List of input texts\n",
    "    limit : Max num of topics\n",
    "\n",
    "    Returns:\n",
    "    -------\n",
    "    model_list : List of LDA topic models\n",
    "    coherence_values : Coherence values corresponding to the LDA model with respective number of topics\n",
    "    \"\"\"\n",
    "    coherence_values = []\n",
    "    model_list = []\n",
    "    for num_topics in range(start, limit, step):\n",
    "        #model = gensim.models.wrappers.LdaMallet(mallet_path, corpus=corpus, num_topics=num_topics, id2word=id2word)\n",
    "        model = gensim.models.ldamodel.LdaModel(corpus = corpus, \n",
    "                                           num_topics = num_topics, \n",
    "                                           id2word = id2word, \n",
    "                                           random_state = 123, \n",
    "                                           update_every = 1, \n",
    "                                           chunksize = 100, \n",
    "                                           passes = 10, \n",
    "                                           alpha = 'auto')\n",
    "        model_list.append(model)\n",
    "        coherencemodel = CoherenceModel(model = model, texts = texts, dictionary = dictionary, coherence ='c_v')\n",
    "        coherence_values.append(coherencemodel.get_coherence())\n",
    "\n",
    "    return model_list, coherence_values\n",
    "\n",
    "\n",
    "# Can take a long time to run.\n",
    "model_list, coherence_values = compute_coherence_values(dictionary = id2word, corpus = corpus, texts = bigrams_data, start=2, limit=20, step=3)"
   ]
  },
  {
   "cell_type": "code",
   "execution_count": 28,
   "metadata": {},
   "outputs": [
    {
     "data": {
      "image/png": "[encoded data removed]",
      "text/plain": [
       "<Figure size 432x288 with 1 Axes>"
      ]
     },
     "metadata": {
      "needs_background": "light"
     },
     "output_type": "display_data"
    }
   ],
   "source": [
    "# Show graph\n",
    "import matplotlib.pyplot as plt\n",
    "%matplotlib inline\n",
    "\n",
    "limit=20; start=2; step=3;\n",
    "x = range(start, limit, step)\n",
    "plt.plot(x, coherence_values)\n",
    "plt.xlabel(\"Num Topics\")\n",
    "plt.ylabel(\"Coherence score\")\n",
    "plt.legend((\"coherence_values\"), loc='best')\n",
    "plt.show()"
   ]
  },
  {
   "cell_type": "markdown",
   "metadata": {},
   "source": [
    "# Visualizing the data "
   ]
  },
  {
   "cell_type": "code",
   "execution_count": 37,
   "metadata": {},
   "outputs": [
    {
     "data": {
      "text/html": [
       "\n",
       "<link rel=\"stylesheet\" type=\"text/css\" href=\"https://cdn.jsdelivr.net/gh/bmabey/pyLDAvis@3.2.2/pyLDAvis/js/ldavis.v1.0.0.css\">\n",
       "\n",
       "\n",
       "<div id=\"ldavis_el441404632662372649846386561\"></div>\n",
       "<script type=\"text/javascript\">\n",
       "\n",
       "var ldavis_el441404632662372649846386561_data = {\"mdsDat\": {\"x\": [-0.17710570925597077, 0.10618373386102616, 0.26646794501853893, -0.26894572411892886, 0.14275257509310704, -0.03568572042176702, -0.07194548681254233, 0.038278386636536724], \"y\": [0.25782581114846514, 0.25572557473688245, -0.095713896265354, -0.04390713707905471, 0.016754395206626572, -0.028744152728275633, -0.22152999467886272, -0.14041060034042713], \"topics\": [1, 2, 3, 4, 5, 6, 7, 8], \"cluster\": [1, 1, 1, 1, 1, 1, 1, 1], \"Freq\": [66.13181716870729, 9.447913031865747, 8.434240899020857, 6.348358013113018, 3.695729705450042, 3.3104019833124636, 2.2288952166119995, 0.4026439819185896]}, \"tinfo\": {\"Term\": [\"us\", \"pizza\", \"tabl\", \"wait\", \"nice\", \"italian\", \"pasta\", \"dish\", \"excel\", \"restaur\", \"place\", \"food\", \"chicken\", \"sauc\", \"minut\", \"menu\", \"reserv\", \"flavor\", \"love\", \"delici\", \"friend\", \"waiter\", \"went\", \"want\", \"would\", \"plate\", \"chees\", \"got\", \"eat\", \"experi\", \"bar\", \"said\", \"view\", \"day\", \"boston\", \"drink\", \"end\", \"final\", \"dessert\", \"give\", \"came\", \"know\", \"order\", \"even\", \"made\", \"great\", \"realli\", \"servic\", \"food\", \"good\", \"meal\", \"one\", \"definit\", \"get\", \"ask\", \"place\", \"tabl\", \"wait\", \"us\", \"restaur\", \"menu\", \"nice\", \"rich\", \"chose\", \"cream\", \"ingredi\", \"parm\", \"marinara\", \"green\", \"roast\", \"look_forward\", \"leftov\", \"hidden_gem\", \"greasi\", \"sip\", \"lemon\", \"noodl\", \"parmesan\", \"quaint\", \"morn\", \"local\", \"chicken_parmesan\", \"chicken\", \"regular\", \"home\", \"flavor\", \"warm\", \"tast\", \"italian\", \"dish\", \"groupon\", \"pasta\", \"sauc\", \"quick\", \"nice\", \"fresh\", \"veal\", \"portion\", \"delici\", \"place\", \"favorit\", \"restaur\", \"love\", \"friendli\", \"good\", \"dine_experi\", \"choic\", \"upscal\", \"appreci\", \"head\", \"fairmont_hotel\", \"chanc\", \"minestron\", \"problem\", \"joint\", \"creativ\", \"sidewalk\", \"short\", \"comment\", \"hunt\", \"rememb\", \"tempt\", \"children\", \"section\", \"spectacular\", \"come_back\", \"meet\", \"front\", \"date\", \"appl_ravioli\", \"slow\", \"famili\", \"mani\", \"summer\", \"alway\", \"care\", \"select\", \"favorit\", \"italian\", \"goat_chees\", \"qualiti\", \"pasta_vino\", \"anoth\", \"menu\", \"seem\", \"restaur\", \"food\", \"clear\", \"size\", \"event\", \"gf\", \"10_minut\", \"tea\", \"guy\", \"25\", \"mind\", \"avail\", \"oh\", \"friday_night\", \"tasteless\", \"frustrat\", \"bistro\", \"flag\", \"earlier\", \"fall\", \"incred\", \"meh\", \"note\", \"gener\", \"waitress\", \"acknowledg\", \"given\", \"20_minut\", \"hostess\", \"minut\", \"mediocr\", \"us\", \"surpris\", \"reserv\", \"slow\", \"open\", \"tabl\", \"wait\", \"time\", \"appl\", \"margherita\", \"make_sure\", \"caesar_salad\", \"picki\", \"feedback\", \"polenta\", \"overlook\", \"polit\", \"duck\", \"napoli\", \"tender\", \"redeem\", \"factor\", \"stori\", \"flat\", \"dollar\", \"what\", \"classi\", \"juici\", \"bland\", \"piec\", \"complet\", \"abl\", \"rate\", \"star\", \"perfectli\", \"qualiti\", \"restaur\", \"husband\", \"suppos\", \"clambak\", \"11\", \"desert\", \"linguin\", \"gilt_citi\", \"crave\", \"glaze\", \"balsam\", \"blueberri\", \"espresso\", \"speak\", \"corn\", \"pesto\", \"hello\", \"updat\", \"allow\", \"true\", \"san\", \"al\", \"pastri\", \"clam\", \"young\", \"soft\", \"lasagna\", \"excel\", \"italian\", \"food\", \"wonder\", \"old\", \"horribl\", \"wrong\", \"pepperoni\", \"season\", \"run\", \"crap\", \"plain\", \"turkey\", \"reheat\", \"mood\", \"garden\", \"play\", \"believ\", \"freezer\", \"slider\", \"hadnt\", \"mistak\", \"bug\", \"sent\", \"worst\", \"slice\", \"atlanta\", \"year\", \"garlic\", \"pizza\", \"worth\", \"italian\", \"el\", \"patrick\", \"cafe\", \"lo\", \"para\", \"una\", \"la\", \"empanada\", \"stare\", \"agradec\", \"alimento\", \"atenci\\u00e3\\u00b3n\", \"bien\", \"caminata\", \"comida\", \"del\", \"domingo\", \"d\\u00e3\", \"enamorado\", \"excelent\"], \"Freq\": [131.0, 71.0, 136.0, 107.0, 110.0, 80.0, 87.0, 81.0, 46.0, 153.0, 194.0, 309.0, 46.0, 56.0, 35.0, 115.0, 43.0, 42.0, 96.0, 79.0, 100.09227476212435, 77.69363268775669, 79.86464344370799, 69.89908237906387, 112.93329464496215, 57.25452823862512, 59.76575641799925, 62.33383910866031, 52.27552917781329, 47.935239823828276, 50.54248949774456, 44.183744752735095, 46.170439268300846, 46.42747825940748, 39.68852659410115, 116.21714541580587, 40.40200836524169, 38.05697673004882, 35.064358514354886, 35.22619852453817, 133.00174866677477, 49.03853031619718, 183.3426351972299, 83.39545044337349, 76.24047417785269, 175.1555437491852, 84.40551110818612, 182.2930520559878, 283.6295738392917, 185.95658347782143, 67.92580947343903, 140.82732446798744, 66.056967915586, 108.87160389753286, 91.16032752769942, 163.0675350843718, 115.68980962933001, 94.94647621282596, 100.69240300386527, 107.40207876070532, 91.26161520053832, 85.76840223365247, 11.369461391627237, 9.922327807198021, 9.155888909902757, 8.748164998234795, 8.550286007159873, 7.978175458321617, 7.788988097808788, 7.781904239650739, 7.4472774588431525, 7.18130987906093, 7.890781152853087, 6.839209869386108, 6.8185388655601855, 6.809333883078436, 6.629338559218151, 6.136040226918073, 5.938327539956792, 5.921422776596708, 6.560474714508034, 5.517477055390774, 31.324975129010603, 7.724173310141004, 13.876990833793137, 24.099714657712884, 10.633709088714523, 15.525631228973914, 29.58011436034207, 28.543531857512733, 9.055769850158054, 28.06769097589652, 21.024002730039637, 10.37746930374736, 23.511412361953873, 15.639854271721703, 10.553896059995447, 13.972443420025698, 17.394768970517976, 23.600868041765153, 12.606055959851385, 16.77883629190197, 14.771970860937676, 12.729614937122504, 10.69258373244293, 15.077845219899386, 12.405572986780568, 8.580008442993341, 7.401116345979709, 7.186232024763535, 6.424360905143189, 6.411078957410276, 6.3965564248200115, 5.846439938855603, 5.6932443775257955, 5.5104170179406795, 5.281608009577859, 5.139501258866603, 4.985025108151617, 4.714953651810273, 14.19019364186824, 4.3163205333847285, 4.313677123084952, 4.302851897855296, 4.296916114915458, 14.689315022728865, 7.844062035383115, 11.564645808260424, 12.233137470040328, 6.813075123141708, 22.50306251591511, 18.907476890682233, 18.62843375223383, 9.21357259602331, 16.660863501503794, 7.644584346822156, 8.705616437439737, 15.858027745389851, 24.127797519136244, 11.675644149144846, 11.702744105283536, 13.79847463933525, 12.91702643008562, 17.920147364151852, 12.066228801066597, 17.585641948325787, 12.872473831940804, 12.871528099363319, 11.392144665081517, 9.714152704288606, 12.899184678773919, 9.206857353040846, 9.192778807826508, 7.670789707697152, 7.493000565967361, 7.184194635667582, 6.878840090168923, 6.806202424972039, 6.360196922937799, 5.818277316836621, 5.46355284629023, 5.4592372770240765, 5.180407473520139, 5.144401460307995, 5.146388783468003, 4.658526040150004, 4.630179585258608, 8.425536903322968, 10.331718394754144, 19.44520635415819, 6.50520593864548, 6.847483877845297, 8.193064925471214, 15.4694158177759, 17.656675732064283, 9.233619302463254, 26.964530587840954, 8.40398214205921, 12.164496064416648, 10.80160590045972, 9.728636074591094, 14.651212791431867, 12.084129251131797, 8.243426504701818, 8.523063627967254, 7.929196771065495, 7.524571807610434, 5.903025370046249, 5.7215010213042, 5.318341503194329, 5.210472727990239, 5.139712207563776, 4.377709843482836, 4.05332755637997, 3.9790288541166237, 3.836325952238365, 3.650836876562946, 3.288671653306092, 3.066270650459099, 2.751470825548946, 2.6841721373347904, 2.6549310101997587, 2.54928552827256, 2.489746454964352, 4.490117136421324, 4.52929579045724, 5.583086942724861, 3.739515407353051, 4.128187973738415, 5.155917804919058, 4.087032020241525, 4.237420914173461, 4.185181799868136, 8.88798710085306, 8.27968552324296, 7.765370925702529, 7.104455034548929, 6.459199569288686, 5.485818718210504, 4.540685392612974, 4.420534663708865, 4.4268160011477535, 3.927517366093856, 3.7952687296416308, 3.456195491169396, 3.43901584834409, 3.319869672849966, 5.857373331095927, 3.273569844565412, 3.263196321509186, 3.2611830275961546, 3.085617517740226, 2.951110991355379, 5.142327398711093, 5.539537377548589, 6.421669258493945, 3.972076759363124, 3.8690760147084777, 4.791758147318123, 5.920586572872052, 4.854824142988305, 4.644606250967562, 3.92151063217482, 10.009558508345204, 7.159710428974741, 4.836522627689836, 4.3680533431870705, 3.9824179022387307, 3.748537535901673, 3.5795077515713976, 3.3247619904526506, 3.2128996054354637, 2.9255503581667637, 2.688234831074227, 2.535838394893908, 2.449570095376936, 2.336767046725162, 2.146812665006824, 1.9296355387855797, 1.8912653193922697, 1.87602123557876, 1.8785299460238005, 1.7826567284158013, 4.980739706951624, 5.751414334026979, 3.6879046697369864, 4.248506365890324, 2.8440603198046053, 4.416439727347818, 3.180505207855636, 2.9668260864263973, 1.2957438692499705, 1.1104870505690736, 0.9543097987072721, 0.8705742371434372, 0.8705742371434372, 0.8705742371434372, 0.9911520028470848, 0.527391185972976, 0.48489258215713393, 0.44539819664897834, 0.44539819664897834, 0.44539819664897834, 0.44539819664897834, 0.44539819664897834, 0.44539819664897834, 0.44539819664897834, 0.44539819664897834, 0.44539819664897834, 0.44539819664897834, 0.44539819664897834], \"Total\": [131.0, 71.0, 136.0, 107.0, 110.0, 80.0, 87.0, 81.0, 46.0, 153.0, 194.0, 309.0, 46.0, 56.0, 35.0, 115.0, 43.0, 42.0, 96.0, 79.0, 100.68010243976966, 78.27322736749637, 80.51372665629557, 70.49186647066091, 114.02749858628401, 57.820731948844596, 60.415386175141926, 63.03284023516872, 52.866042055385556, 48.49870451812951, 51.17658399588745, 44.745779909226556, 46.78304876757064, 47.085910512527064, 40.25197850857129, 117.87791891862797, 40.9929680891558, 38.63202551117258, 35.62857079753098, 35.816439274507644, 136.48029792357752, 49.92577806146962, 190.20660265816332, 85.47875641524323, 78.13100634647287, 182.9104388871678, 86.94588832469421, 193.1023114428008, 309.07674052479337, 201.40225084444253, 69.77370160129297, 151.11157481826808, 67.75557796418255, 118.98485921744738, 98.06674319334965, 194.29973667665027, 136.02192840231115, 107.51620673696321, 131.38207417640174, 153.79530985532975, 115.60235513267546, 110.25200858252025, 11.955273432716066, 10.51472057517416, 9.742236514951392, 9.333036533420005, 9.134673898441637, 8.562564481232403, 8.373719249256917, 8.372661855372495, 8.03557394805564, 7.765675734671556, 8.535021339615199, 7.424165465495248, 7.4048921358831805, 7.3956382035504635, 7.21420702569358, 6.720983061030893, 6.52290351284624, 6.507558536589199, 7.210819980679919, 6.10238582163927, 46.797779233524345, 9.093703792079404, 19.534927327810074, 42.59747808986474, 14.42698820020078, 26.966445644023942, 80.92751701539187, 81.97078106531129, 11.99192665468717, 87.4006424795044, 56.97273271204407, 16.722211500256634, 110.25200858252025, 44.93403650040692, 17.769599879535974, 40.58031311369468, 79.14216909123907, 194.29973667665027, 36.361265113898455, 153.79530985532975, 96.06402273244652, 55.98120535807851, 201.40225084444253, 15.666964843519859, 12.989702158798627, 9.162664128955546, 7.9854597707333745, 7.770061124039119, 7.006941344504863, 6.994400716041271, 7.00385221904901, 6.429743730866696, 6.276302364429177, 6.093225731451204, 5.865599472234396, 5.7226437651152535, 5.56807186384476, 5.299584417667308, 16.045940130016696, 4.898537592923943, 4.896606698882757, 4.885782993799155, 4.882314738614687, 16.826664660354837, 8.954143250193862, 13.697050368871787, 14.641811319853005, 7.949942444419232, 35.00903022017885, 30.256564125204406, 32.120768991819354, 12.75710984849307, 31.18699404312329, 9.907403904402452, 12.406216163814515, 36.361265113898455, 80.92751701539187, 21.619945705705252, 22.351660215983152, 31.72612632650015, 35.60209093840766, 115.60235513267546, 34.34142981056025, 153.79530985532975, 309.07674052479337, 13.465906520580054, 11.988187428168603, 10.311285472168867, 13.698372055721723, 9.80201366607183, 9.787119332796909, 8.26615048759063, 8.08796269067474, 7.779797188059903, 7.474741419939213, 7.402054160474102, 6.957071699900839, 6.413516988319277, 6.058049810630119, 6.054872446315388, 5.774802442600894, 5.740075212117896, 5.755893676040434, 5.254381612511872, 5.227390590958094, 9.696658385227536, 12.154115941141818, 24.208352327177895, 7.710349451203342, 8.25715898372014, 10.478268708109624, 27.814592066905554, 35.333392808807204, 14.627919240347708, 131.38207417640174, 13.762962141672192, 43.76410417218741, 35.00903022017885, 24.6701440612803, 136.02192840231115, 107.51620673696321, 102.64116868658816, 9.113267651639319, 8.515064856961663, 8.112720375177402, 6.489430205960065, 6.310619155561225, 5.910503082761771, 5.795477475547625, 5.725267413712396, 4.965746295060738, 4.640064197735883, 4.567297413246629, 4.422619032330441, 4.236629239133333, 3.8749953777643085, 3.657659459305894, 3.338394747838384, 3.270738000464807, 3.2473189257305015, 3.134310584955404, 3.0751767125713454, 5.578075852128336, 10.462090418852862, 19.288046995825926, 7.347202237948421, 9.595326124722002, 38.38635675841745, 17.00625670722251, 22.351660215983152, 153.79530985532975, 9.48435712067789, 8.876951542383207, 8.360378125963292, 7.704647190284473, 7.054857739870824, 6.082357509451409, 5.135755516296408, 5.018221744314663, 5.02629025900413, 4.540124386375137, 4.391541320964707, 4.051196070377944, 4.0367696525635415, 3.915182257500126, 6.915989291277352, 3.8704734746321305, 3.8596982632725303, 3.858299940198223, 3.682858432435959, 3.547861096890396, 6.830629440816689, 11.11031154697476, 16.765552956730076, 6.045412171576197, 5.7970466542651655, 10.940706248751358, 46.433291094386604, 80.92751701539187, 309.07674052479337, 35.129015393552244, 10.624780244104615, 7.777239619303628, 5.452845145775769, 4.982823984187587, 4.6027391521712175, 4.366324792117463, 4.202535695891862, 3.9392902154298732, 3.830068538376167, 3.540545144361958, 3.3033195614339927, 3.154224846930758, 3.069776073332114, 2.952166671898921, 2.7651310746622464, 2.5445102733098715, 2.505755614547944, 2.490360099343674, 2.4946888931782376, 2.3982678582191617, 12.456825831916106, 19.71105685800701, 9.535109556057215, 17.44821767085023, 8.963813117820242, 71.37862450341949, 16.351514275733205, 80.92751701539187, 1.9579548314258874, 1.7742722002613314, 1.6174744578629694, 1.5327862871486517, 1.5327862871486517, 1.5327862871486517, 1.8092060692991425, 1.1898274715318418, 1.1498931079694672, 1.1076141856029262, 1.1076141856029262, 1.1076141856029262, 1.1076141856029262, 1.1076141856029262, 1.1076141856029262, 1.1076141856029262, 1.1076141856029262, 1.1076141856029262, 1.1076141856029262, 1.1076141856029262], \"Category\": [\"Default\", \"Default\", \"Default\", \"Default\", \"Default\", \"Default\", \"Default\", \"Default\", \"Default\", \"Default\", \"Default\", \"Default\", \"Default\", \"Default\", \"Default\", \"Default\", \"Default\", \"Default\", \"Default\", \"Default\", \"Topic1\", \"Topic1\", \"Topic1\", \"Topic1\", \"Topic1\", \"Topic1\", \"Topic1\", \"Topic1\", \"Topic1\", \"Topic1\", \"Topic1\", \"Topic1\", \"Topic1\", \"Topic1\", \"Topic1\", \"Topic1\", \"Topic1\", \"Topic1\", \"Topic1\", \"Topic1\", \"Topic1\", \"Topic1\", \"Topic1\", \"Topic1\", \"Topic1\", \"Topic1\", \"Topic1\", \"Topic1\", \"Topic1\", \"Topic1\", \"Topic1\", \"Topic1\", \"Topic1\", \"Topic1\", \"Topic1\", \"Topic1\", \"Topic1\", \"Topic1\", \"Topic1\", \"Topic1\", \"Topic1\", \"Topic1\", \"Topic2\", \"Topic2\", \"Topic2\", \"Topic2\", \"Topic2\", \"Topic2\", \"Topic2\", \"Topic2\", \"Topic2\", \"Topic2\", \"Topic2\", \"Topic2\", \"Topic2\", \"Topic2\", \"Topic2\", \"Topic2\", \"Topic2\", \"Topic2\", \"Topic2\", \"Topic2\", \"Topic2\", \"Topic2\", \"Topic2\", \"Topic2\", \"Topic2\", \"Topic2\", \"Topic2\", \"Topic2\", \"Topic2\", \"Topic2\", \"Topic2\", \"Topic2\", \"Topic2\", \"Topic2\", \"Topic2\", \"Topic2\", \"Topic2\", \"Topic2\", \"Topic2\", \"Topic2\", \"Topic2\", \"Topic2\", \"Topic2\", \"Topic3\", \"Topic3\", \"Topic3\", \"Topic3\", \"Topic3\", \"Topic3\", \"Topic3\", \"Topic3\", \"Topic3\", \"Topic3\", \"Topic3\", \"Topic3\", \"Topic3\", \"Topic3\", \"Topic3\", \"Topic3\", \"Topic3\", \"Topic3\", \"Topic3\", \"Topic3\", \"Topic3\", \"Topic3\", \"Topic3\", \"Topic3\", \"Topic3\", \"Topic3\", \"Topic3\", \"Topic3\", \"Topic3\", \"Topic3\", \"Topic3\", \"Topic3\", \"Topic3\", \"Topic3\", \"Topic3\", \"Topic3\", \"Topic3\", \"Topic3\", \"Topic3\", \"Topic3\", \"Topic3\", \"Topic3\", \"Topic4\", \"Topic4\", \"Topic4\", \"Topic4\", \"Topic4\", \"Topic4\", \"Topic4\", \"Topic4\", \"Topic4\", \"Topic4\", \"Topic4\", \"Topic4\", \"Topic4\", \"Topic4\", \"Topic4\", \"Topic4\", \"Topic4\", \"Topic4\", \"Topic4\", \"Topic4\", \"Topic4\", \"Topic4\", \"Topic4\", \"Topic4\", \"Topic4\", \"Topic4\", \"Topic4\", \"Topic4\", \"Topic4\", \"Topic4\", \"Topic4\", \"Topic4\", \"Topic4\", \"Topic4\", \"Topic4\", \"Topic4\", \"Topic4\", \"Topic5\", \"Topic5\", \"Topic5\", \"Topic5\", \"Topic5\", \"Topic5\", \"Topic5\", \"Topic5\", \"Topic5\", \"Topic5\", \"Topic5\", \"Topic5\", \"Topic5\", \"Topic5\", \"Topic5\", \"Topic5\", \"Topic5\", \"Topic5\", \"Topic5\", \"Topic5\", \"Topic5\", \"Topic5\", \"Topic5\", \"Topic5\", \"Topic5\", \"Topic5\", \"Topic5\", \"Topic5\", \"Topic5\", \"Topic6\", \"Topic6\", \"Topic6\", \"Topic6\", \"Topic6\", \"Topic6\", \"Topic6\", \"Topic6\", \"Topic6\", \"Topic6\", \"Topic6\", \"Topic6\", \"Topic6\", \"Topic6\", \"Topic6\", \"Topic6\", \"Topic6\", \"Topic6\", \"Topic6\", \"Topic6\", \"Topic6\", \"Topic6\", \"Topic6\", \"Topic6\", \"Topic6\", \"Topic6\", \"Topic6\", \"Topic6\", \"Topic6\", \"Topic6\", \"Topic7\", \"Topic7\", \"Topic7\", \"Topic7\", \"Topic7\", \"Topic7\", \"Topic7\", \"Topic7\", \"Topic7\", \"Topic7\", \"Topic7\", \"Topic7\", \"Topic7\", \"Topic7\", \"Topic7\", \"Topic7\", \"Topic7\", \"Topic7\", \"Topic7\", \"Topic7\", \"Topic7\", \"Topic7\", \"Topic7\", \"Topic7\", \"Topic7\", \"Topic7\", \"Topic7\", \"Topic7\", \"Topic8\", \"Topic8\", \"Topic8\", \"Topic8\", \"Topic8\", \"Topic8\", \"Topic8\", \"Topic8\", \"Topic8\", \"Topic8\", \"Topic8\", \"Topic8\", \"Topic8\", \"Topic8\", \"Topic8\", \"Topic8\", \"Topic8\", \"Topic8\", \"Topic8\", \"Topic8\"], \"logprob\": [20.0, 19.0, 18.0, 17.0, 16.0, 15.0, 14.0, 13.0, 12.0, 11.0, 10.0, 9.0, 8.0, 7.0, 6.0, 5.0, 4.0, 3.0, 2.0, 1.0, -5.0076, -5.261, -5.2334, -5.3667, -4.8869, -5.5662, -5.5233, -5.4812, -5.6572, -5.7439, -5.6909, -5.8254, -5.7814, -5.7758, -5.9327, -4.8583, -5.9149, -5.9746, -6.0565, -6.0519, -4.7234, -5.7211, -4.4024, -5.1901, -5.2798, -4.4481, -5.1781, -4.4081, -3.9661, -4.3882, -5.3953, -4.6662, -5.4232, -4.9236, -5.1011, -4.5196, -4.8628, -5.0604, -5.0017, -4.9372, -5.1, -5.1621, -5.2369, -5.3731, -5.4535, -5.499, -5.5219, -5.5912, -5.6152, -5.6161, -5.66, -5.6964, -5.6022, -5.7452, -5.7482, -5.7496, -5.7764, -5.8537, -5.8864, -5.8893, -5.7868, -5.96, -4.2235, -5.6235, -5.0376, -4.4857, -5.3038, -4.9254, -4.2808, -4.3164, -5.4645, -4.3333, -4.6222, -5.3282, -4.5104, -4.9181, -5.3114, -5.0308, -4.8117, -4.5066, -5.1337, -4.8478, -4.9751, -5.1239, -5.2983, -4.8412, -5.0362, -5.4049, -5.5528, -5.5822, -5.6943, -5.6964, -5.6986, -5.7885, -5.8151, -5.8477, -5.8902, -5.9174, -5.9479, -6.0036, -4.9018, -6.092, -6.0926, -6.0951, -6.0965, -4.8673, -5.4946, -5.1064, -5.0502, -5.6355, -4.4407, -4.6148, -4.6297, -5.3337, -4.7413, -5.5204, -5.3904, -4.7907, -4.371, -5.0969, -5.0946, -4.9298, -4.9958, -4.6685, -5.064, -4.6873, -4.9993, -4.7153, -4.8374, -4.9967, -4.7131, -5.0503, -5.0519, -5.2329, -5.2563, -5.2984, -5.3418, -5.3524, -5.4202, -5.5093, -5.5722, -5.573, -5.6254, -5.6324, -5.632, -5.7316, -5.7377, -5.139, -4.9351, -4.3027, -5.3977, -5.3464, -5.167, -4.5314, -4.3992, -5.0474, -3.9758, -5.1416, -4.7718, -4.8906, -4.9952, -4.5858, -4.7784, -5.1609, -4.5865, -4.6587, -4.7111, -4.9538, -4.985, -5.0581, -5.0786, -5.0923, -5.2527, -5.3297, -5.3482, -5.3847, -5.4343, -5.5388, -5.6088, -5.7171, -5.7419, -5.7528, -5.7934, -5.8171, -5.2274, -5.2187, -5.0095, -5.4103, -5.3114, -5.0891, -5.3214, -5.2853, -5.2977, -4.4345, -4.5053, -4.5695, -4.6584, -4.7536, -4.917, -5.1061, -5.1329, -5.1315, -5.2511, -5.2854, -5.379, -5.384, -5.4192, -4.8515, -5.4333, -5.4364, -5.4371, -5.4924, -5.537, -4.9816, -4.9072, -4.7595, -5.2399, -5.2661, -5.0523, -4.8407, -5.0392, -5.0834, -5.2527, -3.92, -4.2551, -4.6474, -4.7493, -4.8417, -4.9022, -4.9484, -5.0222, -5.0564, -5.1501, -5.2347, -5.2931, -5.3277, -5.3748, -5.4596, -5.5663, -5.5863, -5.5944, -5.5931, -5.6455, -4.618, -4.4741, -4.9185, -4.777, -5.1784, -4.7383, -5.0665, -5.1361, -4.2533, -4.4076, -4.5591, -4.651, -4.651, -4.651, -4.5213, -5.1522, -5.2362, -5.3212, -5.3212, -5.3212, -5.3212, -5.3212, -5.3212, -5.3212, -5.3212, -5.3212, -5.3212, -5.3212], \"loglift\": [20.0, 19.0, 18.0, 17.0, 16.0, 15.0, 14.0, 13.0, 12.0, 11.0, 10.0, 9.0, 8.0, 7.0, 6.0, 5.0, 4.0, 3.0, 2.0, 1.0, 0.4077, 0.4061, 0.4054, 0.4051, 0.4039, 0.4037, 0.4027, 0.4024, 0.4023, 0.4018, 0.4011, 0.4009, 0.4003, 0.3994, 0.3994, 0.3993, 0.399, 0.3985, 0.3976, 0.3969, 0.3877, 0.3956, 0.3768, 0.3888, 0.389, 0.3702, 0.3839, 0.3559, 0.3276, 0.3337, 0.3867, 0.343, 0.3881, 0.3247, 0.3405, 0.2383, 0.2516, 0.2892, 0.1475, 0.0545, 0.1771, 0.1624, 2.3091, 2.3014, 2.2973, 2.2947, 2.2933, 2.2887, 2.287, 2.2862, 2.2833, 2.2811, 2.2809, 2.2773, 2.2769, 2.2768, 2.2748, 2.2683, 2.2655, 2.265, 2.2649, 2.2586, 1.958, 2.1961, 2.0174, 1.7898, 2.0543, 1.8073, 1.3529, 1.3044, 2.0785, 1.2235, 1.3625, 1.8823, 0.8141, 1.304, 1.8384, 1.2932, 0.8443, 0.2513, 1.3, 0.1439, 0.4871, 0.8783, -0.5764, 2.4345, 2.4269, 2.4072, 2.3969, 2.3948, 2.3861, 2.3858, 2.3822, 2.3778, 2.3754, 2.3723, 2.368, 2.3654, 2.3623, 2.356, 2.35, 2.3463, 2.3461, 2.3458, 2.3451, 2.337, 2.3405, 2.3036, 2.2931, 2.3185, 2.0309, 2.0027, 1.9281, 2.1475, 1.8459, 2.2136, 2.1186, 1.643, 1.2627, 1.8568, 1.8258, 1.6403, 1.459, 0.6086, 1.4269, 0.3043, -0.7056, 2.7118, 2.706, 2.6973, 2.6969, 2.6943, 2.6943, 2.6822, 2.6806, 2.6773, 2.6739, 2.6731, 2.6673, 2.6596, 2.6537, 2.6534, 2.6484, 2.6474, 2.645, 2.6366, 2.6357, 2.6165, 2.5945, 2.5379, 2.587, 2.5698, 2.511, 2.1703, 2.0633, 2.2969, 1.1734, 2.2637, 1.4767, 1.5811, 1.8265, 0.5287, 0.5712, 0.2352, 3.231, 3.2267, 3.2227, 3.2033, 3.2, 3.1924, 3.1916, 3.1901, 3.172, 3.1628, 3.1601, 3.1558, 3.1492, 3.1339, 3.1216, 3.1046, 3.1003, 3.0966, 3.0914, 3.0868, 3.081, 2.4608, 2.0582, 2.6226, 2.4546, 1.2904, 1.8722, 1.635, -0.3061, 3.3432, 3.3384, 3.3343, 3.327, 3.3199, 3.3049, 3.285, 3.2813, 3.2811, 3.2632, 3.2622, 3.2493, 3.2478, 3.2432, 3.242, 3.2406, 3.2402, 3.24, 3.2312, 3.2239, 3.1242, 2.7121, 2.4485, 2.9881, 3.0038, 2.5825, 1.3485, 0.5945, -0.7898, 1.2156, 3.744, 3.7209, 3.6837, 3.672, 3.6589, 3.6511, 3.6432, 3.6341, 3.628, 3.6129, 3.5976, 3.5854, 3.578, 3.5699, 3.5506, 3.5271, 3.5223, 3.5204, 3.52, 3.507, 2.887, 2.5719, 2.8537, 2.391, 2.6557, 1.021, 2.1664, 0.4976, 5.1021, 5.0463, 4.9872, 4.9492, 4.9492, 4.9492, 4.9131, 4.7013, 4.6514, 4.6039, 4.6039, 4.6039, 4.6039, 4.6039, 4.6039, 4.6039, 4.6039, 4.6039, 4.6039, 4.6039]}, \"token.table\": {\"Topic\": [4, 6, 4, 7, 4, 4, 5, 7, 3, 4, 5, 6, 6, 1, 3, 1, 3, 4, 5, 3, 4, 3, 1, 3, 4, 1, 7, 4, 6, 1, 7, 4, 2, 5, 6, 1, 7, 5, 8, 1, 4, 3, 6, 3, 1, 1, 2, 3, 5, 2, 3, 3, 2, 1, 6, 6, 5, 4, 3, 7, 3, 1, 5, 6, 7, 6, 2, 3, 1, 3, 1, 1, 2, 1, 2, 3, 6, 6, 1, 3, 1, 2, 3, 4, 5, 1, 4, 5, 4, 1, 8, 8, 1, 6, 1, 4, 6, 4, 1, 6, 1, 5, 3, 4, 1, 3, 1, 2, 3, 5, 1, 4, 5, 1, 2, 4, 1, 2, 3, 4, 6, 7, 1, 2, 6, 4, 1, 1, 2, 2, 3, 4, 7, 1, 2, 4, 7, 2, 4, 1, 3, 4, 4, 6, 1, 3, 4, 6, 1, 3, 1, 2, 3, 6, 1, 2, 1, 2, 2, 2, 5, 4, 7, 3, 6, 2, 1, 2, 7, 1, 4, 3, 6, 4, 2, 1, 2, 3, 4, 5, 6, 7, 3, 5, 1, 8, 4, 6, 2, 2, 6, 8, 2, 2, 1, 2, 6, 1, 3, 5, 1, 3, 5, 2, 1, 4, 3, 4, 2, 3, 4, 1, 2, 3, 4, 5, 4, 3, 1, 4, 7, 7, 2, 5, 1, 2, 3, 2, 3, 4, 4, 7, 1, 3, 4, 1, 4, 1, 2, 3, 5, 8, 2, 2, 1, 2, 3, 4, 1, 2, 3, 2, 4, 6, 8, 7, 1, 2, 5, 3, 6, 5, 1, 4, 5, 6, 1, 3, 7, 1, 2, 3, 6, 7, 1, 7, 5, 5, 1, 2, 4, 6, 3, 2, 2, 3, 5, 7, 1, 2, 2, 4, 5, 1, 2, 3, 5, 2, 4, 7, 3, 5, 1, 4, 1, 2, 3, 4, 5, 2, 2, 7, 1, 6, 1, 2, 7, 3, 1, 3, 5, 3, 4, 7, 1, 3, 4, 3, 3, 2, 4, 1, 7, 7, 3, 4, 7, 1, 6, 6, 3, 1, 2, 3, 5, 6, 5, 3, 5, 6, 2, 4, 1, 3, 4, 1, 2, 3, 4, 4, 4, 3, 5, 1, 2, 3, 4, 6, 7, 8, 6, 3, 1, 3, 4, 1, 2, 7, 1, 1, 4, 1, 3, 4, 1, 2, 5, 1, 5, 1, 6, 1, 4, 7, 1, 4, 7, 1, 7, 3, 4, 6, 7, 3, 6], \"Freq\": [0.9181786831365195, 0.9085425752949428, 0.7634849060330381, 0.19087122650825952, 0.8654837154566577, 0.27221246063841376, 0.5444249212768275, 0.13610623031920688, 0.12969580773591677, 0.9078706541514173, 0.14639939242267508, 0.7319969621133753, 0.7775445264750135, 0.44890507820797787, 0.5450990235382589, 0.5898529958908993, 0.36514709269436624, 0.028088237899566635, 0.987571126409423, 0.8805095192750634, 0.1257870741821519, 0.8765932333232616, 0.9279394526295549, 0.01019713684208302, 0.06118282105249812, 0.5243778239363522, 0.4195022591490818, 0.9364872450740813, 0.8810331302824997, 0.9965495157726503, 0.6774685247406919, 0.8257812273225811, 0.1792732882286723, 0.7170931529146892, 0.9108419362706358, 0.9937399720980763, 0.801703172475345, 0.92458040376017, 0.6182477844634495, 0.9744996312542757, 0.02198119468994607, 0.8074769210171316, 0.2018692302542829, 0.8578290326202404, 0.993124496896573, 0.25642242423767847, 0.662424595947336, 0.021368535353139873, 0.06410560605941962, 0.9832220012579004, 0.8168922370082667, 0.9238087104154079, 0.9510476220937869, 0.5964610905353868, 0.3578766543212321, 0.9568945183419238, 0.9571482846658239, 0.9654010281544725, 0.8914422615993158, 0.11885896821324211, 0.8979769159350423, 0.6739925510764928, 0.3110734851122275, 0.7662478532775951, 0.9518063115823506, 0.7970951073518731, 0.9238125132958656, 0.9847001021199652, 0.13659512175847918, 0.819570730550875, 0.9769376762452504, 0.9740895433714609, 0.014758932475325165, 0.7075873790550318, 0.21480331149884893, 0.03790646673509099, 0.025270977823393992, 0.8504778156036724, 0.9823576757792781, 0.9574285861887456, 0.609973448467715, 0.35378460011127466, 0.0121994689693543, 0.0243989379387086, 0.917224185970771, 0.9840689508615748, 0.008483353024668749, 0.8620570383383483, 0.871068725623051, 0.9836181786698115, 0.510737011880783, 0.8404579856544675, 0.9757771116500715, 0.7405220453129349, 0.9710014918419988, 0.011698813154722877, 0.011698813154722877, 0.9698111866838469, 0.8614508913161157, 0.12921763369741737, 0.9897171579512379, 0.7741944718733729, 0.8562937385947224, 0.8686748368568851, 0.3635574731645339, 0.6279629081932858, 0.1925125536219138, 0.3575233138692685, 0.44002869399294586, 0.845951677883852, 0.9836398557204878, 0.8658304850595143, 0.8986354899888651, 0.39908465858322323, 0.5634136356469034, 0.023475568151954306, 0.9188656497340609, 0.006470884857282119, 0.04206075157233377, 0.016177212143205298, 0.016177212143205298, 0.7232930179428455, 0.6008808044600109, 0.35607751375408053, 0.04450968921926007, 0.8624318188477949, 0.9932449170860099, 0.7681149365211868, 0.23222079476221927, 0.14601683911050245, 0.8761010346630147, 0.8253481163569258, 0.9511053097305895, 0.22311933255546787, 0.3346789988332018, 0.11155966627773393, 0.3346789988332018, 0.08227665466107567, 0.8227665466107567, 0.9160829429633578, 0.042022153346943016, 0.042022153346943016, 0.9490178794326135, 0.9735665929062164, 0.9772049011279369, 0.12110702990842316, 0.8477492093589621, 0.7958155605586792, 0.41628226650102107, 0.5550430220013615, 0.923524931921745, 0.054617065866339756, 0.01986075122412355, 0.004965187806030887, 0.9836142520102965, 0.942866916494977, 0.9567523923987328, 0.03827009569594931, 0.9553699809926061, 0.7505049237840573, 0.16677887195201274, 0.967802366048116, 0.79816243387359, 0.9008938138650295, 0.7750989690699625, 0.937314586768295, 0.25595180960217656, 0.7166650668860944, 0.9000622769324906, 0.4314282219611582, 0.5392852774514477, 0.9434702055752563, 0.9489309486647345, 0.9515867648618951, 0.9643163795376287, 0.2100645197945059, 0.37070209375501045, 0.2965616750040084, 0.012356736458500347, 0.024713472917000694, 0.06178368229250174, 0.03707020937550105, 0.9559768876026249, 0.6503691289752505, 0.9814569126928822, 0.5527286343823642, 0.5484106659645276, 0.45700888830377295, 0.9014025616273121, 0.9465038455558132, 0.822049672718263, 0.6524066716830033, 0.9707633831873804, 0.871126324672027, 0.8223682264485996, 0.15614586578137968, 0.010409724385425312, 0.9727252156842457, 0.012799015995845339, 0.9861057241018323, 0.4047225644974718, 0.5915175942655356, 0.9395113407103927, 0.9342995334557255, 0.9745792245418136, 0.014332047419732553, 0.34181211407078765, 0.6152618053274177, 0.11168014315365676, 0.8934411452292541, 0.9565001721219349, 0.7871811944969492, 0.008650342796669772, 0.1557061703400559, 0.025951028390009317, 0.008650342796669772, 0.8997663860368106, 0.8566714162930591, 0.4811312655987731, 0.5094331047516422, 0.8030967089968608, 0.9081773483331054, 0.9220047681883434, 0.8757914447171135, 0.7800311405268562, 0.21768310898423893, 0.009070129541009955, 0.9703076131679232, 0.10312831083370527, 0.8250264866696422, 0.9456834343875767, 0.9411959372570282, 0.9330853719814077, 0.05294101401312952, 0.00661762675164119, 0.5674875657484687, 0.4053482612489062, 0.9621117113840947, 0.026287205229073626, 0.005257441045814725, 0.8733216527187303, 0.6524066716830033, 0.9852568466111733, 0.89272654692269, 0.6407275554425369, 0.32036377772126845, 0.022883126980090603, 0.011441563490045301, 0.3151976354468215, 0.25215810835745717, 0.44127668962555006, 0.36002590774235893, 0.09000647693558973, 0.5400388616135384, 0.5636113781485788, 0.8027576355684116, 0.2940094393539593, 0.47041510296633493, 0.23520755148316747, 0.1445924737421484, 0.8675548424528904, 0.9507783391923608, 0.19116638453018592, 0.09558319226509296, 0.4779159613254648, 0.2867495767952789, 0.8826171761965222, 0.042029389342691535, 0.05603918579025538, 0.8389100406824603, 0.12352049678760152, 0.036026811563050445, 0.005146687366150063, 0.7615585133203054, 0.9858055766300102, 0.6515133196113172, 0.8627416845455932, 0.805518397904997, 0.5914197835970048, 0.34499487376491944, 0.02464249098320853, 0.02464249098320853, 0.9331631634393663, 0.9198357737752167, 0.2684364356840723, 0.5368728713681447, 0.17895762378938157, 0.04473940594734539, 0.35880421676929025, 0.5980070279488171, 0.20843481232462482, 0.31265221848693725, 0.41686962464924965, 0.9661181410477634, 0.011501406441044802, 0.011501406441044802, 0.9441468144184976, 0.8797295560658114, 0.10996619450822642, 0.8473271424817915, 0.8724948420947045, 0.06232106014962175, 0.708343072167826, 0.2741973182585133, 0.6957299289598066, 0.11053653076931506, 0.1170386796380983, 0.05201719095026591, 0.026008595475132956, 0.9200960615336556, 0.9554906358563413, 0.9161022577205457, 0.9833329554040743, 0.8455798911150774, 0.6143289664004651, 0.36859737984027907, 0.8690477273979579, 0.8187019368393242, 0.5241482401663097, 0.34943216011087314, 0.11647738670362437, 0.7254427845816922, 0.2418142615272307, 0.8339352058385604, 0.9425055486915316, 0.031071611495325217, 0.020714407663550146, 0.8737220426823651, 0.8524277908282303, 0.9453209947622162, 0.9175699050344623, 0.6595283090931348, 0.30439768111990834, 0.7860058656389002, 0.656973353884651, 0.31420464751005045, 0.028564058864550042, 0.17250163050943398, 0.6900065220377359, 0.7431684882229673, 0.819283519016835, 0.7554767487446126, 0.05210184474100776, 0.02605092237050388, 0.1302546118525194, 0.02605092237050388, 0.8201966403316572, 0.7054889474878295, 0.23516298249594317, 0.9012102816832803, 0.3632938860494826, 0.5812702176791721, 0.8528036718969869, 0.03675877896107702, 0.11027633688323106, 0.22249873339646692, 0.5933299557239118, 0.037083122232744486, 0.11124936669823346, 0.9355241454770602, 0.9195759951389119, 0.8165702363452508, 0.9044414566931968, 0.818385069800711, 0.04871339701194708, 0.0584560764143365, 0.07794143521911533, 0.8145846643406559, 0.783275800404321, 0.6524066716830033, 0.7772628312805944, 0.982247070648208, 0.7687502319714569, 0.022834165306082878, 0.20550748775474592, 0.2813794364474214, 0.6190347601843271, 0.11255177457896857, 0.983262126171789, 0.883587720244038, 0.11161108045187848, 0.9965093126131933, 0.16523222836232995, 0.7848530847210673, 0.9930223656247543, 0.7624599013567442, 0.20794360946093024, 0.9936193904116671, 0.9238390403323672, 0.8824613970162652, 0.11386598671177615, 0.4013863617800058, 0.1605545447120023, 0.4013863617800058, 0.6727205697593875, 0.06115641543267159, 0.18346924629801478, 0.9909890280938987, 0.9169525021031303, 0.5158119969488804, 0.17193733231629346, 0.057312444105431154, 0.22924977642172462, 0.16541469326139824, 0.661658773045593], \"Term\": [\"10_minut\", \"11\", \"20_minut\", \"20_minut\", \"25\", \"abl\", \"abl\", \"abl\", \"acknowledg\", \"acknowledg\", \"al\", \"al\", \"allow\", \"alway\", \"alway\", \"anoth\", \"anoth\", \"anoth\", \"appl\", \"appl_ravioli\", \"appl_ravioli\", \"appreci\", \"ask\", \"ask\", \"ask\", \"atlanta\", \"atlanta\", \"avail\", \"balsam\", \"bar\", \"believ\", \"bistro\", \"bland\", \"bland\", \"blueberri\", \"boston\", \"bug\", \"caesar_salad\", \"cafe\", \"came\", \"came\", \"care\", \"care\", \"chanc\", \"chees\", \"chicken\", \"chicken\", \"chicken\", \"chicken\", \"chicken_parmesan\", \"children\", \"choic\", \"chose\", \"clam\", \"clam\", \"clambak\", \"classi\", \"clear\", \"come_back\", \"come_back\", \"comment\", \"complet\", \"complet\", \"corn\", \"crap\", \"crave\", \"cream\", \"creativ\", \"date\", \"date\", \"day\", \"definit\", \"definit\", \"delici\", \"delici\", \"delici\", \"delici\", \"desert\", \"dessert\", \"dine_experi\", \"dish\", \"dish\", \"dish\", \"dish\", \"dollar\", \"drink\", \"drink\", \"duck\", \"earlier\", \"eat\", \"el\", \"empanada\", \"end\", \"espresso\", \"even\", \"even\", \"even\", \"event\", \"excel\", \"excel\", \"experi\", \"factor\", \"fairmont_hotel\", \"fall\", \"famili\", \"famili\", \"favorit\", \"favorit\", \"favorit\", \"feedback\", \"final\", \"flag\", \"flat\", \"flavor\", \"flavor\", \"flavor\", \"food\", \"food\", \"food\", \"food\", \"food\", \"freezer\", \"fresh\", \"fresh\", \"fresh\", \"friday_night\", \"friend\", \"friendli\", \"friendli\", \"front\", \"front\", \"frustrat\", \"garden\", \"garlic\", \"garlic\", \"garlic\", \"garlic\", \"gener\", \"gener\", \"get\", \"get\", \"get\", \"gf\", \"gilt_citi\", \"give\", \"given\", \"given\", \"glaze\", \"goat_chees\", \"goat_chees\", \"good\", \"good\", \"good\", \"good\", \"got\", \"greasi\", \"great\", \"great\", \"green\", \"groupon\", \"groupon\", \"guy\", \"hadnt\", \"head\", \"hello\", \"hidden_gem\", \"home\", \"home\", \"horribl\", \"hostess\", \"hostess\", \"hunt\", \"husband\", \"incred\", \"ingredi\", \"italian\", \"italian\", \"italian\", \"italian\", \"italian\", \"italian\", \"italian\", \"joint\", \"juici\", \"know\", \"la\", \"lasagna\", \"lasagna\", \"leftov\", \"lemon\", \"linguin\", \"lo\", \"local\", \"look_forward\", \"love\", \"love\", \"love\", \"made\", \"made\", \"make_sure\", \"mani\", \"mani\", \"margherita\", \"marinara\", \"meal\", \"meal\", \"mediocr\", \"mediocr\", \"meet\", \"meet\", \"meh\", \"menu\", \"menu\", \"menu\", \"menu\", \"menu\", \"mind\", \"minestron\", \"minut\", \"minut\", \"mistak\", \"mood\", \"morn\", \"napoli\", \"nice\", \"nice\", \"nice\", \"noodl\", \"note\", \"note\", \"oh\", \"old\", \"one\", \"one\", \"one\", \"open\", \"open\", \"order\", \"order\", \"order\", \"overlook\", \"para\", \"parm\", \"parmesan\", \"pasta\", \"pasta\", \"pasta\", \"pasta\", \"pasta_vino\", \"pasta_vino\", \"pasta_vino\", \"pastri\", \"pastri\", \"pastri\", \"patrick\", \"pepperoni\", \"perfectli\", \"perfectli\", \"perfectli\", \"pesto\", \"pesto\", \"picki\", \"piec\", \"piec\", \"piec\", \"piec\", \"pizza\", \"pizza\", \"pizza\", \"place\", \"place\", \"place\", \"place\", \"plain\", \"plate\", \"play\", \"polenta\", \"polit\", \"portion\", \"portion\", \"portion\", \"portion\", \"problem\", \"quaint\", \"qualiti\", \"qualiti\", \"qualiti\", \"qualiti\", \"quick\", \"quick\", \"rate\", \"rate\", \"rate\", \"realli\", \"realli\", \"realli\", \"redeem\", \"regular\", \"regular\", \"reheat\", \"rememb\", \"rememb\", \"reserv\", \"reserv\", \"restaur\", \"restaur\", \"restaur\", \"restaur\", \"restaur\", \"rich\", \"roast\", \"run\", \"said\", \"san\", \"sauc\", \"sauc\", \"season\", \"section\", \"seem\", \"seem\", \"seem\", \"select\", \"select\", \"sent\", \"servic\", \"servic\", \"servic\", \"short\", \"sidewalk\", \"sip\", \"size\", \"slice\", \"slice\", \"slider\", \"slow\", \"slow\", \"slow\", \"soft\", \"soft\", \"speak\", \"spectacular\", \"star\", \"star\", \"star\", \"star\", \"star\", \"stori\", \"summer\", \"summer\", \"suppos\", \"surpris\", \"surpris\", \"tabl\", \"tabl\", \"tabl\", \"tast\", \"tast\", \"tast\", \"tast\", \"tasteless\", \"tea\", \"tempt\", \"tender\", \"time\", \"time\", \"time\", \"time\", \"true\", \"turkey\", \"una\", \"updat\", \"upscal\", \"us\", \"us\", \"us\", \"veal\", \"veal\", \"veal\", \"view\", \"wait\", \"wait\", \"waiter\", \"waitress\", \"waitress\", \"want\", \"warm\", \"warm\", \"went\", \"what\", \"wonder\", \"wonder\", \"worst\", \"worst\", \"worst\", \"worth\", \"worth\", \"worth\", \"would\", \"wrong\", \"year\", \"year\", \"year\", \"year\", \"young\", \"young\"]}, \"R\": 20, \"lambda.step\": 0.01, \"plot.opts\": {\"xlab\": \"PC1\", \"ylab\": \"PC2\"}, \"topic.order\": [8, 4, 1, 2, 3, 5, 6, 7]};\n",
       "\n",
       "function LDAvis_load_lib(url, callback){\n",
       "  var s = document.createElement('script');\n",
       "  s.src = url;\n",
       "  s.async = true;\n",
       "  s.onreadystatechange = s.onload = callback;\n",
       "  s.onerror = function(){console.warn(\"failed to load library \" + url);};\n",
       "  document.getElementsByTagName(\"head\")[0].appendChild(s);\n",
       "}\n",
       "\n",
       "if(typeof(LDAvis) !== \"undefined\"){\n",
       "   // already loaded: just create the visualization\n",
       "   !function(LDAvis){\n",
       "       new LDAvis(\"#\" + \"ldavis_el441404632662372649846386561\", ldavis_el441404632662372649846386561_data);\n",
       "   }(LDAvis);\n",
       "}else if(typeof define === \"function\" && define.amd){\n",
       "   // require.js is available: use it to load d3/LDAvis\n",
       "   require.config({paths: {d3: \"https://d3js.org/d3.v5\"}});\n",
       "   require([\"d3\"], function(d3){\n",
       "      window.d3 = d3;\n",
       "      LDAvis_load_lib(\"https://cdn.jsdelivr.net/gh/bmabey/pyLDAvis@3.2.2/pyLDAvis/js/ldavis.v3.0.0.js\", function(){\n",
       "        new LDAvis(\"#\" + \"ldavis_el441404632662372649846386561\", ldavis_el441404632662372649846386561_data);\n",
       "      });\n",
       "    });\n",
       "}else{\n",
       "    // require.js not available: dynamically load d3 & LDAvis\n",
       "    LDAvis_load_lib(\"https://d3js.org/d3.v5.js\", function(){\n",
       "         LDAvis_load_lib(\"https://cdn.jsdelivr.net/gh/bmabey/pyLDAvis@3.2.2/pyLDAvis/js/ldavis.v3.0.0.js\", function(){\n",
       "                 new LDAvis(\"#\" + \"ldavis_el441404632662372649846386561\", ldavis_el441404632662372649846386561_data);\n",
       "            })\n",
       "         });\n",
       "}\n",
       "</script>"
      ],
      "text/plain": [
       "PreparedData(topic_coordinates=              x         y  topics  cluster       Freq\n",
       "topic                                                \n",
       "7     -0.177106  0.257826       1        1  66.131817\n",
       "3      0.106184  0.255726       2        1   9.447913\n",
       "0      0.266468 -0.095714       3        1   8.434241\n",
       "1     -0.268946 -0.043907       4        1   6.348358\n",
       "2      0.142753  0.016754       5        1   3.695730\n",
       "4     -0.035686 -0.028744       6        1   3.310402\n",
       "5     -0.071945 -0.221530       7        1   2.228895\n",
       "6      0.038278 -0.140411       8        1   0.402644, topic_info=           Term        Freq       Total Category  logprob  loglift\n",
       "250          us  131.000000  131.000000  Default  20.0000  20.0000\n",
       "474       pizza   71.000000   71.000000  Default  19.0000  19.0000\n",
       "244        tabl  136.000000  136.000000  Default  18.0000  18.0000\n",
       "146        wait  107.000000  107.000000  Default  17.0000  17.0000\n",
       "19         nice  110.000000  110.000000  Default  16.0000  16.0000\n",
       "...         ...         ...         ...      ...      ...      ...\n",
       "3279        del    0.445398    1.107614   Topic8  -5.3212   4.6039\n",
       "3280    domingo    0.445398    1.107614   Topic8  -5.3212   4.6039\n",
       "3281         dã    0.445398    1.107614   Topic8  -5.3212   4.6039\n",
       "3283  enamorado    0.445398    1.107614   Topic8  -5.3212   4.6039\n",
       "3284   excelent    0.445398    1.107614   Topic8  -5.3212   4.6039\n",
       "\n",
       "[291 rows x 6 columns], token_table=      Topic      Freq      Term\n",
       "term                           \n",
       "211       4  0.918179  10_minut\n",
       "1186      6  0.908543        11\n",
       "681       4  0.763485  20_minut\n",
       "681       7  0.190871  20_minut\n",
       "721       4  0.865484        25\n",
       "...     ...       ...       ...\n",
       "477       4  0.171937      year\n",
       "477       6  0.057312      year\n",
       "477       7  0.229250      year\n",
       "1976      3  0.165415     young\n",
       "1976      6  0.661659     young\n",
       "\n",
       "[405 rows x 3 columns], R=20, lambda_step=0.01, plot_opts={'xlab': 'PC1', 'ylab': 'PC2'}, topic_order=[8, 4, 1, 2, 3, 5, 6, 7])"
      ]
     },
     "execution_count": 37,
     "metadata": {},
     "output_type": "execute_result"
    }
   ],
   "source": [
    "pyLDAvis.enable_notebook()\n",
    "vis = pyLDAvis.gensim.prepare(ldagensim, corpus,id2word,mds = \"mmds\",R = 20)\n",
    "vis "
   ]
  },
  {
   "cell_type": "code",
   "execution_count": 30,
   "metadata": {},
   "outputs": [
    {
     "data": {
      "text/html": [
       "<div>\n",
       "<style scoped>\n",
       "    .dataframe tbody tr th:only-of-type {\n",
       "        vertical-align: middle;\n",
       "    }\n",
       "\n",
       "    .dataframe tbody tr th {\n",
       "        vertical-align: top;\n",
       "    }\n",
       "\n",
       "    .dataframe thead th {\n",
       "        text-align: right;\n",
       "    }\n",
       "</style>\n",
       "<table border=\"1\" class=\"dataframe\">\n",
       "  <thead>\n",
       "    <tr style=\"text-align: right;\">\n",
       "      <th></th>\n",
       "      <th>0</th>\n",
       "      <th>1</th>\n",
       "      <th>2</th>\n",
       "      <th>3</th>\n",
       "      <th>4</th>\n",
       "      <th>5</th>\n",
       "      <th>6</th>\n",
       "      <th>7</th>\n",
       "    </tr>\n",
       "  </thead>\n",
       "  <tbody>\n",
       "    <tr>\n",
       "      <th>0</th>\n",
       "      <td>0.044351</td>\n",
       "      <td>0.249944</td>\n",
       "      <td>0.002004</td>\n",
       "      <td>0.005815</td>\n",
       "      <td>0.002796</td>\n",
       "      <td>0.002627</td>\n",
       "      <td>0.000619</td>\n",
       "      <td>0.691844</td>\n",
       "    </tr>\n",
       "    <tr>\n",
       "      <th>1</th>\n",
       "      <td>0.002048</td>\n",
       "      <td>0.016674</td>\n",
       "      <td>0.093201</td>\n",
       "      <td>0.415378</td>\n",
       "      <td>0.000854</td>\n",
       "      <td>0.016255</td>\n",
       "      <td>0.000189</td>\n",
       "      <td>0.455400</td>\n",
       "    </tr>\n",
       "    <tr>\n",
       "      <th>2</th>\n",
       "      <td>0.093317</td>\n",
       "      <td>0.304499</td>\n",
       "      <td>0.002202</td>\n",
       "      <td>0.006269</td>\n",
       "      <td>0.003078</td>\n",
       "      <td>0.002887</td>\n",
       "      <td>0.000681</td>\n",
       "      <td>0.587067</td>\n",
       "    </tr>\n",
       "    <tr>\n",
       "      <th>3</th>\n",
       "      <td>0.007212</td>\n",
       "      <td>0.004957</td>\n",
       "      <td>0.002150</td>\n",
       "      <td>0.006003</td>\n",
       "      <td>0.003000</td>\n",
       "      <td>0.002818</td>\n",
       "      <td>0.000665</td>\n",
       "      <td>0.973195</td>\n",
       "    </tr>\n",
       "    <tr>\n",
       "      <th>4</th>\n",
       "      <td>0.003792</td>\n",
       "      <td>0.739999</td>\n",
       "      <td>0.001149</td>\n",
       "      <td>0.003177</td>\n",
       "      <td>0.001605</td>\n",
       "      <td>0.001506</td>\n",
       "      <td>0.000355</td>\n",
       "      <td>0.248416</td>\n",
       "    </tr>\n",
       "    <tr>\n",
       "      <th>...</th>\n",
       "      <td>...</td>\n",
       "      <td>...</td>\n",
       "      <td>...</td>\n",
       "      <td>...</td>\n",
       "      <td>...</td>\n",
       "      <td>...</td>\n",
       "      <td>...</td>\n",
       "      <td>...</td>\n",
       "    </tr>\n",
       "    <tr>\n",
       "      <th>346</th>\n",
       "      <td>0.004651</td>\n",
       "      <td>0.075698</td>\n",
       "      <td>0.018236</td>\n",
       "      <td>0.329640</td>\n",
       "      <td>0.035594</td>\n",
       "      <td>0.001810</td>\n",
       "      <td>0.000427</td>\n",
       "      <td>0.533944</td>\n",
       "    </tr>\n",
       "    <tr>\n",
       "      <th>347</th>\n",
       "      <td>0.007842</td>\n",
       "      <td>0.005495</td>\n",
       "      <td>0.002378</td>\n",
       "      <td>0.006832</td>\n",
       "      <td>0.003319</td>\n",
       "      <td>0.395735</td>\n",
       "      <td>0.000735</td>\n",
       "      <td>0.577664</td>\n",
       "    </tr>\n",
       "    <tr>\n",
       "      <th>348</th>\n",
       "      <td>0.047308</td>\n",
       "      <td>0.194345</td>\n",
       "      <td>0.000522</td>\n",
       "      <td>0.001436</td>\n",
       "      <td>0.006790</td>\n",
       "      <td>0.006670</td>\n",
       "      <td>0.000161</td>\n",
       "      <td>0.742768</td>\n",
       "    </tr>\n",
       "    <tr>\n",
       "      <th>349</th>\n",
       "      <td>0.348098</td>\n",
       "      <td>0.047894</td>\n",
       "      <td>0.017443</td>\n",
       "      <td>0.125053</td>\n",
       "      <td>0.023711</td>\n",
       "      <td>0.000487</td>\n",
       "      <td>0.000115</td>\n",
       "      <td>0.437198</td>\n",
       "    </tr>\n",
       "    <tr>\n",
       "      <th>350</th>\n",
       "      <td>0.037424</td>\n",
       "      <td>0.028312</td>\n",
       "      <td>0.001666</td>\n",
       "      <td>0.004742</td>\n",
       "      <td>0.053951</td>\n",
       "      <td>0.002184</td>\n",
       "      <td>0.000515</td>\n",
       "      <td>0.871206</td>\n",
       "    </tr>\n",
       "  </tbody>\n",
       "</table>\n",
       "<p>351 rows × 8 columns</p>\n",
       "</div>"
      ],
      "text/plain": [
       "            0         1         2         3         4         5         6  \\\n",
       "0    0.044351  0.249944  0.002004  0.005815  0.002796  0.002627  0.000619   \n",
       "1    0.002048  0.016674  0.093201  0.415378  0.000854  0.016255  0.000189   \n",
       "2    0.093317  0.304499  0.002202  0.006269  0.003078  0.002887  0.000681   \n",
       "3    0.007212  0.004957  0.002150  0.006003  0.003000  0.002818  0.000665   \n",
       "4    0.003792  0.739999  0.001149  0.003177  0.001605  0.001506  0.000355   \n",
       "..        ...       ...       ...       ...       ...       ...       ...   \n",
       "346  0.004651  0.075698  0.018236  0.329640  0.035594  0.001810  0.000427   \n",
       "347  0.007842  0.005495  0.002378  0.006832  0.003319  0.395735  0.000735   \n",
       "348  0.047308  0.194345  0.000522  0.001436  0.006790  0.006670  0.000161   \n",
       "349  0.348098  0.047894  0.017443  0.125053  0.023711  0.000487  0.000115   \n",
       "350  0.037424  0.028312  0.001666  0.004742  0.053951  0.002184  0.000515   \n",
       "\n",
       "            7  \n",
       "0    0.691844  \n",
       "1    0.455400  \n",
       "2    0.587067  \n",
       "3    0.973195  \n",
       "4    0.248416  \n",
       "..        ...  \n",
       "346  0.533944  \n",
       "347  0.577664  \n",
       "348  0.742768  \n",
       "349  0.437198  \n",
       "350  0.871206  \n",
       "\n",
       "[351 rows x 8 columns]"
      ]
     },
     "execution_count": 30,
     "metadata": {},
     "output_type": "execute_result"
    }
   ],
   "source": [
    "all_topics = ldagensim.get_document_topics(corpus,minimum_probability = 0.0)\n",
    "all_topics_csr = gensim.matutils.corpus2csc(all_topics)\n",
    "all_topics_numpy = all_topics_csr.T.toarray()\n",
    "all_topics_df = pd.DataFrame(all_topics_numpy)\n",
    "\n",
    "all_topics_df"
   ]
  },
  {
   "cell_type": "markdown",
   "metadata": {},
   "source": [
    "# Optimal number of topics for LDA"
   ]
  },
  {
   "cell_type": "code",
   "execution_count": 31,
   "metadata": {},
   "outputs": [
    {
     "data": {
      "text/html": [
       "<style> .jp-Button path { fill: #616161;} text.terms { fill: #616161;} .jp-icon-warn0 path {fill: var(--jp-warn-color0);} .bp3-button-text path { fill: var(--jp-inverse-layout-color3);} .jp-icon-brand0 path { fill: var(--jp-brand-color0);} text.terms { fill: #616161;} </style>"
      ],
      "text/plain": [
       "<IPython.core.display.HTML object>"
      ]
     },
     "metadata": {},
     "output_type": "display_data"
    }
   ],
   "source": [
    "## To fix jupyter notebook format\n",
    "\n",
    "from IPython.display import HTML\n",
    "css_str = '<style> \\\n",
    ".jp-Button path { fill: #616161;} \\\n",
    "text.terms { fill: #616161;} \\\n",
    ".jp-icon-warn0 path {fill: var(--jp-warn-color0);} \\\n",
    ".bp3-button-text path { fill: var(--jp-inverse-layout-color3);} \\\n",
    ".jp-icon-brand0 path { fill: var(--jp-brand-color0);} \\\n",
    "text.terms { fill: #616161;} \\\n",
    "</style>'\n",
    "display(HTML(css_str ))"
   ]
  },
  {
   "cell_type": "markdown",
   "metadata": {},
   "source": [
    "# Finding the dominant topic for each doc and labelling docs"
   ]
  },
  {
   "cell_type": "code",
   "execution_count": 31,
   "metadata": {},
   "outputs": [],
   "source": [
    "import joblib\n",
    "#Save a model to disk, or reload a pre-trained model\n",
    "\n",
    "joblib.dump(ldagensim, 'reviews_ldagensim.jl')\n",
    "\n",
    "# then reload it with\n",
    "ldagensim_disk = joblib.load('reviews_ldagensim.jl')"
   ]
  },
  {
   "cell_type": "code",
   "execution_count": 32,
   "metadata": {},
   "outputs": [
    {
     "name": "stdout",
     "output_type": "stream",
     "text": [
      "(0, '0.013*\"italian\" + 0.012*\"slow\" + 0.010*\"famili\" + 0.010*\"mani\" + 0.009*\"menu\" + 0.009*\"restaur\" + 0.009*\"alway\" + 0.008*\"favorit\" + 0.008*\"dine_experi\" + 0.008*\"come_back\"')\n",
      "(1, '0.019*\"us\" + 0.014*\"waitress\" + 0.012*\"minut\" + 0.011*\"hostess\" + 0.010*\"tabl\" + 0.009*\"gf\" + 0.009*\"clear\" + 0.008*\"reserv\" + 0.008*\"wait\" + 0.008*\"size\"')\n"
     ]
    }
   ],
   "source": [
    "vecTop= ldagensim_disk.show_topics()\n",
    "for i in range(0, 2):\n",
    "    print(vecTop[i])"
   ]
  },
  {
   "cell_type": "code",
   "execution_count": 34,
   "metadata": {},
   "outputs": [
    {
     "data": {
      "text/plain": [
       "[(0, 0.044353813),\n",
       " (1, 0.24994287),\n",
       " (2, 0.0020037536),\n",
       " (3, 0.005820509),\n",
       " (4, 0.0027959524),\n",
       " (5, 0.0026269408),\n",
       " (6, 0.0006193552),\n",
       " (7, 0.69183683)]"
      ]
     },
     "execution_count": 34,
     "metadata": {},
     "output_type": "execute_result"
    }
   ],
   "source": [
    "#map the reviews data to the model, v is the reviews transformed to word vectors by doc2bow\n",
    "m = ldagensim[corpus[0:len(corpus)]]\n",
    "\n",
    "#assign topic to each review\n",
    "import operator \n",
    "topic = []\n",
    "for x in m:\n",
    "    #find the topic with the highest proportions\n",
    "    t = max(x, key = operator.itemgetter(1))\n",
    "    topic.append(t[0])\n",
    "    \n",
    "df['topic'] = topic\n",
    "topic[0]\n",
    "m[0]"
   ]
  },
  {
   "cell_type": "code",
   "execution_count": 36,
   "metadata": {},
   "outputs": [
    {
     "data": {
      "text/plain": [
       "Unnamed: 0                                                     5\n",
       "review_id                                 aglpU--vi76j2r3BEdmolA\n",
       "business_id                               kVI7NL59MPnYTx3Lg6PMTw\n",
       "stars                                                          1\n",
       "text           i went there last night...we were outside on t...\n",
       "clean_text     went last nightw outsid patio good view ambian...\n",
       "topic                                                          7\n",
       "Name: 5, dtype: object"
      ]
     },
     "execution_count": 36,
     "metadata": {},
     "output_type": "execute_result"
    }
   ],
   "source": [
    "df.iloc[5]"
   ]
  },
  {
   "cell_type": "code",
   "execution_count": 38,
   "metadata": {},
   "outputs": [],
   "source": [
    "#map topic names to the topic numbers\n",
    "# topic_dict = {0:'Atmosphere', 1:'Food', 2:'Service',\n",
    "#              3:'Food', 4:'Waiting time', 5:'Food',\n",
    "#              6:'Food', 7:'Hospitality'}\n",
    "topic_dict = {0:'Service', 1:'Food',2:'Ambience',\n",
    "             3:'Wait time',4:'Food',5:'Food',6:'Food',7:'Food'}\n",
    "\n",
    "df = df.replace({'topic':topic_dict})"
   ]
  },
  {
   "cell_type": "code",
   "execution_count": 39,
   "metadata": {},
   "outputs": [
    {
     "data": {
      "text/html": [
       "<div>\n",
       "<style scoped>\n",
       "    .dataframe tbody tr th:only-of-type {\n",
       "        vertical-align: middle;\n",
       "    }\n",
       "\n",
       "    .dataframe tbody tr th {\n",
       "        vertical-align: top;\n",
       "    }\n",
       "\n",
       "    .dataframe thead th {\n",
       "        text-align: right;\n",
       "    }\n",
       "</style>\n",
       "<table border=\"1\" class=\"dataframe\">\n",
       "  <thead>\n",
       "    <tr style=\"text-align: right;\">\n",
       "      <th></th>\n",
       "      <th>Unnamed: 0</th>\n",
       "      <th>review_id</th>\n",
       "      <th>business_id</th>\n",
       "      <th>stars</th>\n",
       "      <th>text</th>\n",
       "      <th>clean_text</th>\n",
       "      <th>topic</th>\n",
       "    </tr>\n",
       "  </thead>\n",
       "  <tbody>\n",
       "    <tr>\n",
       "      <th>0</th>\n",
       "      <td>0</td>\n",
       "      <td>z_VY1RNU2nWO6kaAVt28nw</td>\n",
       "      <td>kVI7NL59MPnYTx3Lg6PMTw</td>\n",
       "      <td>4</td>\n",
       "      <td>great food. recommend the grilled shrimp app, ...</td>\n",
       "      <td>great food recommend grill shrimp app white be...</td>\n",
       "      <td>Food</td>\n",
       "    </tr>\n",
       "    <tr>\n",
       "      <th>1</th>\n",
       "      <td>1</td>\n",
       "      <td>iz89hnkkU5MXSvODiIKiaA</td>\n",
       "      <td>kVI7NL59MPnYTx3Lg6PMTw</td>\n",
       "      <td>4</td>\n",
       "      <td>there is definitely a wow factor when you ente...</td>\n",
       "      <td>definit wow factor enter restaur hotel dim lig...</td>\n",
       "      <td>Food</td>\n",
       "    </tr>\n",
       "    <tr>\n",
       "      <th>2</th>\n",
       "      <td>2</td>\n",
       "      <td>T8vxPxV_0Nvh7T9G7zfE8A</td>\n",
       "      <td>eLrJdEYwxzJgddnqawDQ1g</td>\n",
       "      <td>5</td>\n",
       "      <td>my boyfriend took me here the last time i was ...</td>\n",
       "      <td>boyfriend took last time visit john creek area...</td>\n",
       "      <td>Food</td>\n",
       "    </tr>\n",
       "    <tr>\n",
       "      <th>3</th>\n",
       "      <td>3</td>\n",
       "      <td>LSvhBCb8q0tytFd1x4eB3A</td>\n",
       "      <td>kVI7NL59MPnYTx3Lg6PMTw</td>\n",
       "      <td>4</td>\n",
       "      <td>food was great. \\r\\nservice was great. \\r\\nbar...</td>\n",
       "      <td>food great servic great bartend spill dark dri...</td>\n",
       "      <td>Food</td>\n",
       "    </tr>\n",
       "    <tr>\n",
       "      <th>4</th>\n",
       "      <td>4</td>\n",
       "      <td>Kv9VEmLpM285jD8SVVqUPw</td>\n",
       "      <td>kVI7NL59MPnYTx3Lg6PMTw</td>\n",
       "      <td>1</td>\n",
       "      <td>we went for afternoon tea and pasties on sunda...</td>\n",
       "      <td>went afternoon tea pasti sunday call earlier w...</td>\n",
       "      <td>Food</td>\n",
       "    </tr>\n",
       "    <tr>\n",
       "      <th>5</th>\n",
       "      <td>5</td>\n",
       "      <td>aglpU--vi76j2r3BEdmolA</td>\n",
       "      <td>kVI7NL59MPnYTx3Lg6PMTw</td>\n",
       "      <td>1</td>\n",
       "      <td>i went there last night...we were outside on t...</td>\n",
       "      <td>went last nightw outsid patio good view ambian...</td>\n",
       "      <td>Food</td>\n",
       "    </tr>\n",
       "    <tr>\n",
       "      <th>6</th>\n",
       "      <td>6</td>\n",
       "      <td>uo-O3xXjKWGXB93k7RwBgg</td>\n",
       "      <td>kVI7NL59MPnYTx3Lg6PMTw</td>\n",
       "      <td>4</td>\n",
       "      <td>i always get a little wary when i see a 2-2.5 ...</td>\n",
       "      <td>alway get littl wari see 225 star rate busi on...</td>\n",
       "      <td>Food</td>\n",
       "    </tr>\n",
       "    <tr>\n",
       "      <th>7</th>\n",
       "      <td>7</td>\n",
       "      <td>dncq4ag15doR-G7uDKhaJw</td>\n",
       "      <td>_pqPht0BqDsU3Fcla_s7iw</td>\n",
       "      <td>5</td>\n",
       "      <td>another one on my fav list and what a better w...</td>\n",
       "      <td>anoth one fav list better way start earli sund...</td>\n",
       "      <td>Food</td>\n",
       "    </tr>\n",
       "    <tr>\n",
       "      <th>8</th>\n",
       "      <td>8</td>\n",
       "      <td>Be-2UIdklRMNMieXoTN8gQ</td>\n",
       "      <td>eLrJdEYwxzJgddnqawDQ1g</td>\n",
       "      <td>4</td>\n",
       "      <td>pasta vino started out as broadway danny's yea...</td>\n",
       "      <td>pasta vino start broadway danni year year ago ...</td>\n",
       "      <td>Food</td>\n",
       "    </tr>\n",
       "    <tr>\n",
       "      <th>9</th>\n",
       "      <td>9</td>\n",
       "      <td>yc9uxICf7hb0LPfjQteAIg</td>\n",
       "      <td>eLrJdEYwxzJgddnqawDQ1g</td>\n",
       "      <td>2</td>\n",
       "      <td>portion size is good and staff is friendly wit...</td>\n",
       "      <td>portion size good staff friendli cool atmosphe...</td>\n",
       "      <td>Food</td>\n",
       "    </tr>\n",
       "  </tbody>\n",
       "</table>\n",
       "</div>"
      ],
      "text/plain": [
       "   Unnamed: 0               review_id             business_id  stars  \\\n",
       "0           0  z_VY1RNU2nWO6kaAVt28nw  kVI7NL59MPnYTx3Lg6PMTw      4   \n",
       "1           1  iz89hnkkU5MXSvODiIKiaA  kVI7NL59MPnYTx3Lg6PMTw      4   \n",
       "2           2  T8vxPxV_0Nvh7T9G7zfE8A  eLrJdEYwxzJgddnqawDQ1g      5   \n",
       "3           3  LSvhBCb8q0tytFd1x4eB3A  kVI7NL59MPnYTx3Lg6PMTw      4   \n",
       "4           4  Kv9VEmLpM285jD8SVVqUPw  kVI7NL59MPnYTx3Lg6PMTw      1   \n",
       "5           5  aglpU--vi76j2r3BEdmolA  kVI7NL59MPnYTx3Lg6PMTw      1   \n",
       "6           6  uo-O3xXjKWGXB93k7RwBgg  kVI7NL59MPnYTx3Lg6PMTw      4   \n",
       "7           7  dncq4ag15doR-G7uDKhaJw  _pqPht0BqDsU3Fcla_s7iw      5   \n",
       "8           8  Be-2UIdklRMNMieXoTN8gQ  eLrJdEYwxzJgddnqawDQ1g      4   \n",
       "9           9  yc9uxICf7hb0LPfjQteAIg  eLrJdEYwxzJgddnqawDQ1g      2   \n",
       "\n",
       "                                                text  \\\n",
       "0  great food. recommend the grilled shrimp app, ...   \n",
       "1  there is definitely a wow factor when you ente...   \n",
       "2  my boyfriend took me here the last time i was ...   \n",
       "3  food was great. \\r\\nservice was great. \\r\\nbar...   \n",
       "4  we went for afternoon tea and pasties on sunda...   \n",
       "5  i went there last night...we were outside on t...   \n",
       "6  i always get a little wary when i see a 2-2.5 ...   \n",
       "7  another one on my fav list and what a better w...   \n",
       "8  pasta vino started out as broadway danny's yea...   \n",
       "9  portion size is good and staff is friendly wit...   \n",
       "\n",
       "                                          clean_text topic  \n",
       "0  great food recommend grill shrimp app white be...  Food  \n",
       "1  definit wow factor enter restaur hotel dim lig...  Food  \n",
       "2  boyfriend took last time visit john creek area...  Food  \n",
       "3  food great servic great bartend spill dark dri...  Food  \n",
       "4  went afternoon tea pasti sunday call earlier w...  Food  \n",
       "5  went last nightw outsid patio good view ambian...  Food  \n",
       "6  alway get littl wari see 225 star rate busi on...  Food  \n",
       "7  anoth one fav list better way start earli sund...  Food  \n",
       "8  pasta vino start broadway danni year year ago ...  Food  \n",
       "9  portion size good staff friendli cool atmosphe...  Food  "
      ]
     },
     "execution_count": 39,
     "metadata": {},
     "output_type": "execute_result"
    }
   ],
   "source": [
    "df.head(10)"
   ]
  },
  {
   "cell_type": "code",
   "execution_count": 40,
   "metadata": {},
   "outputs": [],
   "source": [
    "df.to_csv(\"Sample_labelled_data.csv\")"
   ]
  },
  {
   "cell_type": "code",
   "execution_count": null,
   "metadata": {},
   "outputs": [],
   "source": []
  }
 ],
 "metadata": {
  "kernelspec": {
   "display_name": "Python 3",
   "language": "python",
   "name": "python3"
  },
  "language_info": {
   "codemirror_mode": {
    "name": "ipython",
    "version": 3
   },
   "file_extension": ".py",
   "mimetype": "text/x-python",
   "name": "python",
   "nbconvert_exporter": "python",
   "pygments_lexer": "ipython3",
   "version": "3.7.6"
  }
 },
 "nbformat": 4,
 "nbformat_minor": 4
}
